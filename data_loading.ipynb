{
 "cells": [
  {
   "cell_type": "code",
   "execution_count": 1,
   "metadata": {},
   "outputs": [],
   "source": [
    "import csv\n",
    "fpath = \"/scratch/yn811/shortjokes.csv\"\n",
    "jokes = []\n",
    "with open(fpath) as f:\n",
    "    reader = csv.reader(f) \n",
    "    next(reader, None)\n",
    "    for row in reader:\n",
    "        jokes.append(row[1])"
   ]
  },
  {
   "cell_type": "code",
   "execution_count": 11,
   "metadata": {},
   "outputs": [],
   "source": [
    "import en_core_web_sm\n",
    "import string\n",
    "\n",
    "tokenizer = en_core_web_sm.load()\n",
    "punctuations = string.punctuation\n",
    "punctuations = ''.join(set(punctuations) - set('(),[].'))"
   ]
  },
  {
   "cell_type": "code",
   "execution_count": 13,
   "metadata": {},
   "outputs": [
    {
     "data": {
      "application/vnd.jupyter.widget-view+json": {
       "model_id": "e0ff44ffe5f6486fb2b02cda4179173d",
       "version_major": 2,
       "version_minor": 0
      },
      "text/plain": [
       "HBox(children=(IntProgress(value=0, max=231657), HTML(value='')))"
      ]
     },
     "metadata": {},
     "output_type": "display_data"
    },
    {
     "name": "stdout",
     "output_type": "stream",
     "text": [
      "\n"
     ]
    }
   ],
   "source": [
    "def tokenize(tokenizer, sent, punctuations):\n",
    "    tokens = tokenizer(sent)\n",
    "    return [token.text.lower() for token in tokens if (token.text not in punctuations)]\n",
    "\n",
    "def tokenize_dataset(tokenizer, dataset, punctuations, gram=1):\n",
    "    from tqdm import tqdm_notebook\n",
    "    token_dataset = []\n",
    "    all_tokens = []   \n",
    "    for sample in tqdm_notebook(dataset):\n",
    "        tokens = tokenize(tokenizer, sample, punctuations)\n",
    "        if (len(tokens) <= 40) and (sum(len(w)<2 for w in tokens) <= len(tokens)/3):\n",
    "            token_dataset.append(tokens)\n",
    "            all_tokens += tokens\n",
    "    return token_dataset, all_tokens\n",
    "\n",
    "token_dataset, all_tokens = tokenize_dataset(tokenizer, jokes, punctuations)"
   ]
  },
  {
   "cell_type": "code",
   "execution_count": 14,
   "metadata": {},
   "outputs": [],
   "source": [
    "from collections import Counter\n",
    "PAD_IDX = 0 # PAD = EOS\n",
    "def build_vocab(all_tokens):\n",
    "    token_counter = Counter(all_tokens)\n",
    "    vocab, count = zip(*token_counter.most_common(len(token_counter)))\n",
    "    id2token = list(vocab)\n",
    "    token2id = dict(zip(vocab, range(1, 1+len(vocab)))) \n",
    "    id2token = ['<pad>'] + id2token\n",
    "    token2id['<pad>'] = PAD_IDX  \n",
    "    return token2id, id2token\n",
    "\n",
    "\n",
    "def token2index_dataset(tokens_data):\n",
    "    indices_data = []\n",
    "    for tokens in tokens_data:\n",
    "        index_list = [token2id[token] for token in tokens]\n",
    "        indices_data.append(index_list)\n",
    "    return indices_data\n",
    "\n",
    "token2id, id2token = build_vocab(all_tokens)\n",
    "idx_data = token2index_dataset(token_dataset)"
   ]
  },
  {
   "cell_type": "code",
   "execution_count": 17,
   "metadata": {},
   "outputs": [
    {
     "data": {
      "text/plain": [
       "'what bees makes the best milk boob bees and also this is my first time using reddit and my account is only 30 minutes old by the time of this post so i have no idea what i am doing'"
      ]
     },
     "execution_count": 17,
     "metadata": {},
     "output_type": "execute_result"
    }
   ],
   "source": [
    "\" \".join(token_dataset[1])"
   ]
  },
  {
   "cell_type": "code",
   "execution_count": 18,
   "metadata": {},
   "outputs": [],
   "source": [
    "import pickle as pkl\n",
    "pkl.dump([idx_data, token_dataset, token2id, id2token], open(\"jokes_with_punc.pkl\", \"wb\"))\n",
    "# sorted and with punc (),[]."
   ]
  },
  {
   "cell_type": "code",
   "execution_count": 2,
   "metadata": {},
   "outputs": [],
   "source": [
    "import pickle as pkl\n",
    "[idx_data, token_dataset, token2id, id2token] = pkl.load(open(\"jokes_with_punc.pkl\", \"rb\"))"
   ]
  },
  {
   "cell_type": "code",
   "execution_count": 3,
   "metadata": {},
   "outputs": [
    {
     "data": {
      "text/plain": [
       "70115"
      ]
     },
     "execution_count": 3,
     "metadata": {},
     "output_type": "execute_result"
    }
   ],
   "source": [
    "token2id[\"<s>\"]"
   ]
  },
  {
   "cell_type": "code",
   "execution_count": 40,
   "metadata": {},
   "outputs": [],
   "source": [
    "filtered_token_data = list(filter(lambda x: len(x) <= 40, token_dataset))\n",
    "filtered_token_data = list(filter(lambda x: sum(len(w)<2 for w in x) <= len(x)/3, filtered_token_data))"
   ]
  },
  {
   "cell_type": "code",
   "execution_count": 41,
   "metadata": {},
   "outputs": [
    {
     "data": {
      "text/plain": [
       "'what bees makes the best milk boob bees and also this is my first time using reddit and my account is only 30 minutes old by the time of this post so i have no idea what i am doing'"
      ]
     },
     "execution_count": 41,
     "metadata": {},
     "output_type": "execute_result"
    }
   ],
   "source": [
    "' '.join(filtered_token_data[0])"
   ]
  },
  {
   "cell_type": "code",
   "execution_count": 5,
   "metadata": {},
   "outputs": [
    {
     "data": {
      "text/plain": [
       "225889"
      ]
     },
     "execution_count": 5,
     "metadata": {},
     "output_type": "execute_result"
    }
   ],
   "source": [
    "len(token_dataset)"
   ]
  },
  {
   "cell_type": "code",
   "execution_count": 7,
   "metadata": {},
   "outputs": [
    {
     "data": {
      "text/plain": [
       "(array([  5.14000000e+02,   2.99400000e+03,   1.55990000e+04,\n",
       "          3.30500000e+04,   4.01350000e+04,   3.66200000e+04,\n",
       "          2.98080000e+04,   2.47710000e+04,   2.12060000e+04,\n",
       "          1.37860000e+04,   7.76200000e+03,   3.02400000e+03,\n",
       "          1.67500000e+03,   5.83000000e+02,   1.09000000e+02,\n",
       "          1.20000000e+01,   2.00000000e+00,   2.00000000e+00,\n",
       "          4.00000000e+00,   0.00000000e+00,   0.00000000e+00,\n",
       "          0.00000000e+00,   0.00000000e+00,   0.00000000e+00,\n",
       "          0.00000000e+00,   0.00000000e+00,   0.00000000e+00,\n",
       "          0.00000000e+00,   0.00000000e+00,   1.00000000e+00]),\n",
       " array([  0. ,   3.1,   6.2,   9.3,  12.4,  15.5,  18.6,  21.7,  24.8,\n",
       "         27.9,  31. ,  34.1,  37.2,  40.3,  43.4,  46.5,  49.6,  52.7,\n",
       "         55.8,  58.9,  62. ,  65.1,  68.2,  71.3,  74.4,  77.5,  80.6,\n",
       "         83.7,  86.8,  89.9,  93. ]),\n",
       " <a list of 30 Patch objects>)"
      ]
     },
     "execution_count": 7,
     "metadata": {},
     "output_type": "execute_result"
    },
    {
     "data": {
      "image/png": "[encoded data removed]",
      "text/plain": [
       "<matplotlib.figure.Figure at 0x2b3a68518a90>"
      ]
     },
     "metadata": {
      "needs_background": "light"
     },
     "output_type": "display_data"
    }
   ],
   "source": [
    "import matplotlib.pyplot as plt\n",
    "%matplotlib inline\n",
    "plt.hist([len(t) for t in token_dataset], bins=30)"
   ]
  }
 ],
 "metadata": {
  "kernelspec": {
   "display_name": "Python 3",
   "language": "python",
   "name": "python3"
  },
  "language_info": {
   "codemirror_mode": {
    "name": "ipython",
    "version": 3
   },
   "file_extension": ".py",
   "mimetype": "text/x-python",
   "name": "python",
   "nbconvert_exporter": "python",
   "pygments_lexer": "ipython3",
   "version": "3.6.3"
  }
 },
 "nbformat": 4,
 "nbformat_minor": 2
}
